{
 "cells": [
  {
   "cell_type": "markdown",
   "id": "498731c6",
   "metadata": {},
   "source": [
    "# Trabajo Practico n3 - Trabajando con Lists y Sets.\n",
    "## Criterios de evaluación.\n",
    "\n",
    "* Se deben utilizar nombres de variables descriptivos y claros (Utilizar la nomeclatura correspondiente para los nombres de variables).\n",
    "* Comentarios claros y concisos que expliquen el propósito de cada sección del código.\n",
    "* Utilizar mensajes de commit **descriptivos**. (Puedes utilizar la extension CONVENTIONAL COMMIT de VS-CODE). \n",
    "* Entrega en tiempo y forma.\n",
    "* Todo el código desarrollado debe ser subido a un repositorio en GitHub (el nombre del repositorio de seguir la siguiente estructura: tp3_tlp3_nombre_apellido).\n",
    "* Para resolver las actividades se debe insertar casillas de codigo entre cada actividad del cuaderno de Jupyter\n",
    "* El repositorio de GitHub debe incluir un archivo README.md con las instrucciones necesarias para la correcta ejecución del código.\n",
    "\n",
    "### ¡Importante!\n",
    "**El incumplimiento de los criterios de evaluación restará puntos en la nota final del práctico!**"
   ]
  },
  {
   "cell_type": "markdown",
   "id": "b361a7b6",
   "metadata": {},
   "source": [
    "### Actividad 1: \n",
    "Suma de todos los elementos de una lista, utilizando bucles repetitivos (for, while)."
   ]
  },
  {
   "cell_type": "code",
   "execution_count": 5,
   "id": "26009294",
   "metadata": {},
   "outputs": [
    {
     "name": "stdout",
     "output_type": "stream",
     "text": [
      "Lista sumada: 204\n"
     ]
    }
   ],
   "source": [
    "\n",
    "# todo:\n",
    "\n",
    "numbers = [14, 23, 34, 48, 85]\n",
    "suma = 0\n",
    "for i in range(len(numbers)):\n",
    "  suma += numbers[i]\n",
    "\n",
    "print(f\"Lista sumada: {suma}\")\n"
   ]
  },
  {
   "cell_type": "markdown",
   "id": "0c239195",
   "metadata": {},
   "source": [
    "### Actividad 2: \n",
    "Encontrar el número más grande en una lista, utilizando bucles repetitivos (for, while)."
   ]
  },
  {
   "cell_type": "code",
   "execution_count": null,
   "id": "3611d25a",
   "metadata": {},
   "outputs": [
    {
     "name": "stdout",
     "output_type": "stream",
     "text": [
      "Lista de números: [43, 23, 46, 17, 54]\n",
      "El número más grande es: 54\n"
     ]
    }
   ],
   "source": [
    "\n",
    "# todo:\n",
    "\n",
    "from random import randint\n",
    "random_numbers =[randint(1, 100) for i in range(5)]\n",
    "\n",
    "#Detecta cual es el número más grande\n",
    "numGrande = random_numbers[0]\n",
    "for num in random_numbers:\n",
    "  if num > numGrande:\n",
    "    numGrande = num\n",
    "\n",
    "print(f\"Lista de números: {random_numbers}\")\n",
    "print(f\"El número más grande es: {numGrande}\")"
   ]
  },
  {
   "cell_type": "markdown",
   "id": "70a24b97",
   "metadata": {},
   "source": [
    "### Actividad 3:\n",
    "Contar cuántas veces aparece un número específico. Utiliza estructuras repetitivas para la resolucion de este ejercicio. "
   ]
  },
  {
   "cell_type": "code",
   "execution_count": 161,
   "id": "a9c8ebc7",
   "metadata": {},
   "outputs": [
    {
     "name": "stdout",
     "output_type": "stream",
     "text": [
      "El número 140 se repite: 1\n",
      "El número 15 se repite: 1\n",
      "El número 151 se repite: 2\n",
      "El número 157 se repite: 1\n",
      "El número 175 se repite: 1\n",
      "El número 179 se repite: 1\n",
      "El número 53 se repite: 1\n",
      "El número 64 se repite: 1\n",
      "El número 192 se repite: 1\n",
      "El número 67 se repite: 1\n",
      "El número 197 se repite: 1\n",
      "El número 78 se repite: 1\n",
      "El número 90 se repite: 1\n",
      "El número 91 se repite: 1\n",
      "El número 110 se repite: 1\n",
      "El número 112 se repite: 1\n",
      "El número 115 se repite: 1\n",
      "El número 120 se repite: 1\n",
      "El número 126 se repite: 1\n",
      "Lista de numeros: [120, 78, 64, 67, 151, 110, 91, 157, 179, 112, 197, 115, 90, 151, 126, 53, 175, 15, 140, 192]\n"
     ]
    }
   ],
   "source": [
    "# todo:\n",
    "lists = [randint(1, 200) for i in range(20)]\n",
    "\n",
    "for num in set(lists):\n",
    "  contador = lists.count(num)\n",
    "  print(f\"El número {num} se repite: {contador}\")\n",
    "print(f\"Lista de numeros: {lists}\")"
   ]
  },
  {
   "cell_type": "markdown",
   "id": "b8dac397",
   "metadata": {},
   "source": [
    "### Actividad 4: \n",
    "Invertir una lista sin usar reverse() ni [::-1]"
   ]
  },
  {
   "cell_type": "code",
   "execution_count": 166,
   "id": "d04fd492",
   "metadata": {},
   "outputs": [
    {
     "name": "stdout",
     "output_type": "stream",
     "text": [
      "[26, 28, 28, 4, 10, 19, 42, 49]\n",
      "[49, 42, 19, 10, 4, 28, 28, 26]\n"
     ]
    }
   ],
   "source": [
    "\n",
    "# todo:\n",
    "\n",
    "lists_two = [randint(1, 50) for i in range(8)]\n",
    "lista_reverse = []\n",
    "for i in range(len(lists_two)):\n",
    "  lista_reverse.insert(0,lists_two[i])\n",
    "print(lists_two)\n",
    "print(lista_reverse)"
   ]
  },
  {
   "cell_type": "markdown",
   "id": "8889d0f2",
   "metadata": {},
   "source": [
    "### Actividad 5:\n",
    "Sumar los elementos de dos listas posición por posición, utilizando solo bucles repetititivos (for,while)."
   ]
  },
  {
   "cell_type": "code",
   "execution_count": 168,
   "id": "bc0ec844",
   "metadata": {},
   "outputs": [
    {
     "name": "stdout",
     "output_type": "stream",
     "text": [
      "Lista uno: 2 + lista dos: 1 = 3\n",
      "Lista uno: 4 + lista dos: 3 = 7\n",
      "Lista uno: 6 + lista dos: 5 = 11\n",
      "Lista uno: 7 + lista dos: 9 = 16\n",
      "Lista uno: 8 + lista dos: 10 = 18\n"
     ]
    }
   ],
   "source": [
    "\n",
    "# todo:\n",
    "\n",
    "lists_one = [ 2,4,6,7,8 ]\n",
    "lists_two = [ 1,3,5,9,10 ]\n",
    "\n",
    "for i in range(len(lists_one)):\n",
    "  suma_lists = lists_one[i] + lists_two[i]\n",
    "  print(f\"Lista uno: {lists_one[i]} + lista dos: {lists_two[i]} = {suma_lists}\")"
   ]
  },
  {
   "cell_type": "markdown",
   "id": "8ce33e6b",
   "metadata": {},
   "source": [
    "### Actividad 6:\n",
    "\n",
    "Escribir un programa que almacene el abecedario en una lista, elimine de la lista las letras que ocupen posiciones múltiplos de 3, y muestre por pantalla la lista resultante."
   ]
  },
  {
   "cell_type": "code",
   "execution_count": 183,
   "id": "b07326e2",
   "metadata": {},
   "outputs": [
    {
     "name": "stdout",
     "output_type": "stream",
     "text": [
      "['b', 'c', 'e', 'f', 'h', 'i', 'k', 'l', 'n', 'o', 'q', 'r', 't', 'u', 'w', 'x', 'z']\n"
     ]
    }
   ],
   "source": [
    "\n",
    "# todo:\n",
    "abcdario = ['a', 'b', 'c', 'd', 'e', 'f', 'g', 'h', 'i', 'j',  \n",
    "            'k', 'l', 'm', 'n', 'o', 'p', 'q', 'r', 's', 't',  \n",
    "            'u', 'v', 'w', 'x', 'y', 'z']\n",
    "\n",
    "abcdario_editado = []\n",
    "def editar_abcdario (abcdario):\n",
    "  for i in range(len(abcdario)):\n",
    "    if i % 3 != 0:\n",
    "      abcdario_editado.append(abcdario[i])\n",
    "  return abcdario_editado\n",
    "print(editar_abcdario(abcdario))"
   ]
  },
  {
   "cell_type": "markdown",
   "id": "5bfeb4b5",
   "metadata": {},
   "source": [
    "### Actividad 7:\n",
    "\n",
    "Escribir un programa que pida al usuario una palabra y muestre por pantalla si es un palíndromo (una palabra que se escribe de la misma forma al derecho y al reves)."
   ]
  },
  {
   "cell_type": "code",
   "execution_count": null,
   "id": "2365afcc",
   "metadata": {},
   "outputs": [
    {
     "name": "stdout",
     "output_type": "stream",
     "text": [
      "pap\n"
     ]
    }
   ],
   "source": [
    "\n",
    "# todo:\n",
    "palabra = input(\"Ingrese una palabra que sea un palindromo: \")\n",
    "palindromo = \"\"\n",
    "\n",
    "def convertir_en_palindromo (palabra,palindromo):\n",
    "\n",
    "  for i in range(len(palabra)):\n",
    "    palindromo = palabra[::-1]\n",
    "  return palindromo\n",
    "\n",
    "if convertir_en_palindromo(palabra,palindromo) == palabra:\n",
    "  print(convertir_en_palindromo(palabra,palindromo))\n",
    "else:\n",
    "  print(\"La palabra ingresada no es un palindromo\")"
   ]
  },
  {
   "cell_type": "markdown",
   "id": "ed8b51be",
   "metadata": {},
   "source": [
    "### Actividad 8:\n",
    "\n",
    "Teniendo en cuenta el conjunto 1 y el conjunto 2, sin usar el operador de intersección &, calcular la intersección de dichos conjuntos."
   ]
  },
  {
   "cell_type": "code",
   "execution_count": null,
   "id": "21a434b9",
   "metadata": {},
   "outputs": [],
   "source": [
    "conjunto1 = {1, 2, 3, 4}\n",
    "conjunto2 = {3, 4, 5, 6}\n",
    "# todo:"
   ]
  },
  {
   "cell_type": "markdown",
   "id": "31b460dc",
   "metadata": {},
   "source": [
    "### Actividad 9:\n",
    "Eliminar duplicados de una lista usando un set."
   ]
  },
  {
   "cell_type": "code",
   "execution_count": 199,
   "id": "0ef62008",
   "metadata": {},
   "outputs": [
    {
     "name": "stdout",
     "output_type": "stream",
     "text": [
      "Lista normal: [1, 2, 2, 3, 4, 4, 5]\n",
      "Lista sin duplicados: [1, 2, 3, 4, 5]\n"
     ]
    }
   ],
   "source": [
    "\n",
    "# todo:\n",
    "lista = [1, 2, 2, 3, 4, 4, 5]\n",
    "\n",
    "lista_sin_duplicados = list(set(lista))\n",
    "\n",
    "print(f\"Lista normal: {lista}\")\n",
    "print(f\"Lista sin duplicados: {lista_sin_duplicados}\")\n"
   ]
  },
  {
   "cell_type": "markdown",
   "id": "075f1f2c",
   "metadata": {},
   "source": [
    "### Actividad 10:\n",
    "\n",
    "Escribir un programa que cree 2 matrices y realice su multiplicacion."
   ]
  },
  {
   "cell_type": "code",
   "execution_count": null,
   "id": "4c1fd0e1",
   "metadata": {},
   "outputs": [],
   "source": [
    "\n",
    "# todo:"
   ]
  }
 ],
 "metadata": {
  "kernelspec": {
   "display_name": "Python 3",
   "language": "python",
   "name": "python3"
  },
  "language_info": {
   "codemirror_mode": {
    "name": "ipython",
    "version": 3
   },
   "file_extension": ".py",
   "mimetype": "text/x-python",
   "name": "python",
   "nbconvert_exporter": "python",
   "pygments_lexer": "ipython3",
   "version": "3.12.9"
  }
 },
 "nbformat": 4,
 "nbformat_minor": 5
}
